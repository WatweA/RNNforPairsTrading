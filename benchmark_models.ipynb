{
 "cells": [
  {
   "cell_type": "code",
   "execution_count": 1,
   "metadata": {},
   "outputs": [],
   "source": [
    "import numpy as np\n",
    "import pandas as pd\n",
    "import json\n",
    "import pandas_market_calendars as mcal\n",
    "from sklearn.linear_model import ElasticNet\n",
    "from sklearn.metrics import mean_squared_error\n",
    "from utils.preprocessing import generate_pair_data\n",
    "from utils.finance_metrics import annualized_return"
   ]
  },
  {
   "cell_type": "code",
   "execution_count": 2,
   "metadata": {},
   "outputs": [
    {
     "data": {
      "text/plain": "{('ADX', 'TY'): 0.853938041834032,\n ('ED', 'SO'): 0.7630684994843583,\n ('AEG', 'ING'): 0.7714520036919487,\n ('GOLD', 'NEM'): 0.8219942702537909,\n ('AVB', 'EQR'): 0.8793959812778221,\n ('AMAT', 'KLAC'): 0.8120695844768887,\n ('APA', 'DVN'): 0.7797792484401138,\n ('ARW', 'AVT'): 0.7573572791543869,\n ('CMA', 'TFC'): 0.8089975734507149,\n ('GFI', 'HMY'): 0.7721582544936532,\n ('BAC', 'WFC'): 0.8033690173669585,\n ('BBVA', 'SAN'): 0.8696850470469416,\n ('HIW', 'KRC'): 0.8127703586697915,\n ('BEN', 'TROW'): 0.7533682263460231,\n ('BK', 'NTRS'): 0.7853258900728711,\n ('HAL', 'SLB'): 0.7707796197283248,\n ('BMO', 'RY'): 0.8112242300303579,\n ('E', 'TOT'): 0.8145755214453303,\n ('BXP', 'VNO'): 0.8658210823728937,\n ('CCL', 'RCL'): 0.7796060510803956,\n ('CM', 'TD'): 0.7955914439701682,\n ('CVX', 'XOM'): 0.8257217118360992,\n ('CPT', 'UDR'): 0.8316230952071983,\n ('CSX', 'NSC'): 0.7742776958878398,\n ('CUZ', 'WRE'): 0.7571898754103825,\n ('DHI', 'LEN'): 0.8014581824672958,\n ('DRE', 'PLD'): 0.8245693410742715,\n ('ELS', 'MAA'): 0.765928437310408,\n ('FITB', 'RF'): 0.7801984040030708,\n ('FULT', 'VLY'): 0.7611300303286185,\n ('GAM', 'USA'): 0.7820430194637051,\n ('MRO', 'MUR'): 0.772800809844038,\n ('HP', 'PTEN'): 0.7833012162253351,\n ('HQH', 'HQL'): 0.8482150467490883,\n ('PEAK', 'WELL'): 0.7897036350226729,\n ('IAC', 'MTCH'): 0.9674580798451038,\n ('IFN', 'IIF'): 0.853350499511345,\n ('PNC', 'USB'): 0.7643275068331293,\n ('KBH', 'PHM'): 0.816217461554839,\n ('KIM', 'WRI'): 0.8623789688248248,\n ('LSI', 'PSA'): 0.7547238022637686,\n ('NNN', 'O'): 0.8132656500270542,\n ('RMT', 'RVT'): 0.786265392525183,\n ('FRT', 'REG'): 0.8491874510864948,\n ('TDS', 'USM'): 0.7688911242803368,\n ('ASA', 'AU'): 0.7503743210034047,\n ('COP', 'PEO'): 0.7727677866092473,\n ('HES', 'OXY'): 0.7534678208087207,\n ('MAC', 'SPG'): 0.7770364114261185}"
     },
     "execution_count": 2,
     "metadata": {},
     "output_type": "execute_result"
    }
   ],
   "source": [
    "pairs = {eval(k): v for k,v in dict(json.loads(open(\"data/info/pairs.json\", \"r\").read())).items()}\n",
    "pairs"
   ]
  },
  {
   "cell_type": "code",
   "execution_count": 3,
   "metadata": {},
   "outputs": [
    {
     "data": {
      "text/plain": "             1W Std.   1M Std.   3M Std.  1D Simple Ret.   1D Ret.   1W Ret.  \\\n2000-01-03  0.858397  0.773041  1.050669        0.019197  0.018945  0.011071   \n2000-01-04  1.088119  0.783751  1.074592       -0.001656 -0.001635  0.008792   \n2000-01-05  1.023830  0.831225  1.083355       -0.000625 -0.000621  0.006522   \n2000-01-06  0.795298  0.738002  1.052704       -0.018349 -0.018519  0.004389   \n2000-01-07  0.743933  0.747537  1.049318       -0.003031 -0.003047  0.002021   \n...              ...       ...       ...             ...       ...       ...   \n2021-02-23  1.225154  1.238262  1.471214        0.000167  0.000167 -0.000889   \n2021-02-24  1.361912  1.252530  1.120482        0.003574  0.003612 -0.001254   \n2021-02-25  1.451676  1.299508  1.159543       -0.008334 -0.008196 -0.001283   \n2021-02-26  1.437548  1.324815  1.161508       -0.002763 -0.002757 -0.001911   \n2021-03-01  1.491899  1.324373  1.184294        0.006167  0.006266 -0.001479   \n\n             1M Ret.   3M Ret.  1D Vol Ratio  1W Vol Ratio  1M Vol Ratio  \\\n2000-01-03  0.006367  0.002754      0.555742      0.317096      0.233443   \n2000-01-04  0.005883  0.003034      0.898808      0.384485      0.254607   \n2000-01-05  0.005936  0.003020      0.760250      0.469975      0.287690   \n2000-01-06  0.004765  0.002658      0.313247      0.473399      0.307057   \n2000-01-07  0.003893  0.002574      0.252034      0.498786      0.314605   \n...              ...       ...           ...           ...           ...   \n2021-02-23 -0.000342 -0.001090      2.649200      1.447228      1.991273   \n2021-02-24 -0.000208 -0.000289      2.703189      1.855525      1.964926   \n2021-02-25 -0.000587 -0.000302      1.356529      1.768606      1.920683   \n2021-02-26 -0.000419 -0.000372      4.414030      1.942165      1.967836   \n2021-03-01 -0.000543 -0.000272      1.148620      1.877036      1.824553   \n\n            3M Vol Ratio  1D GBM Proj.  1W GBM Proj.  1M GBM Proj.  \\\n2000-01-03      0.326796     -0.139307     -0.049903     -0.198165   \n2000-01-04      0.329870     -0.166500      0.106437      0.057961   \n2000-01-05      0.335911     -0.041480      0.061364     -0.091600   \n2000-01-06      0.333969      0.084399     -0.020840     -0.167687   \n2000-01-07      0.332667     -0.145277     -0.121995     -0.020924   \n...                  ...           ...           ...           ...   \n2021-02-23      2.336000      0.308996     -0.243938     -0.094251   \n2021-02-24      2.303158      0.005430      0.119638     -0.236814   \n2021-02-25      2.284094     -0.110348     -0.086563     -0.062112   \n2021-02-26      2.247079      0.147805     -0.221466     -0.275143   \n2021-03-01      2.232539     -0.099133      0.512093     -0.228449   \n\n            3M GBM Proj.  Return Diff (t+1)  \n2000-01-03      0.026347           0.019197  \n2000-01-04      0.234076          -0.001656  \n2000-01-05     -0.048785          -0.000625  \n2000-01-06      0.016781          -0.018349  \n2000-01-07      0.058948          -0.003031  \n...                  ...                ...  \n2021-02-23     -0.452310           0.000167  \n2021-02-24     -0.027923           0.003574  \n2021-02-25      0.183099          -0.008334  \n2021-02-26      0.175150          -0.002763  \n2021-03-01     -0.048321           0.006167  \n\n[5323 rows x 17 columns]",
      "text/html": "<div>\n<style scoped>\n    .dataframe tbody tr th:only-of-type {\n        vertical-align: middle;\n    }\n\n    .dataframe tbody tr th {\n        vertical-align: top;\n    }\n\n    .dataframe thead th {\n        text-align: right;\n    }\n</style>\n<table border=\"1\" class=\"dataframe\">\n  <thead>\n    <tr style=\"text-align: right;\">\n      <th></th>\n      <th>1W Std.</th>\n      <th>1M Std.</th>\n      <th>3M Std.</th>\n      <th>1D Simple Ret.</th>\n      <th>1D Ret.</th>\n      <th>1W Ret.</th>\n      <th>1M Ret.</th>\n      <th>3M Ret.</th>\n      <th>1D Vol Ratio</th>\n      <th>1W Vol Ratio</th>\n      <th>1M Vol Ratio</th>\n      <th>3M Vol Ratio</th>\n      <th>1D GBM Proj.</th>\n      <th>1W GBM Proj.</th>\n      <th>1M GBM Proj.</th>\n      <th>3M GBM Proj.</th>\n      <th>Return Diff (t+1)</th>\n    </tr>\n  </thead>\n  <tbody>\n    <tr>\n      <th>2000-01-03</th>\n      <td>0.858397</td>\n      <td>0.773041</td>\n      <td>1.050669</td>\n      <td>0.019197</td>\n      <td>0.018945</td>\n      <td>0.011071</td>\n      <td>0.006367</td>\n      <td>0.002754</td>\n      <td>0.555742</td>\n      <td>0.317096</td>\n      <td>0.233443</td>\n      <td>0.326796</td>\n      <td>-0.139307</td>\n      <td>-0.049903</td>\n      <td>-0.198165</td>\n      <td>0.026347</td>\n      <td>0.019197</td>\n    </tr>\n    <tr>\n      <th>2000-01-04</th>\n      <td>1.088119</td>\n      <td>0.783751</td>\n      <td>1.074592</td>\n      <td>-0.001656</td>\n      <td>-0.001635</td>\n      <td>0.008792</td>\n      <td>0.005883</td>\n      <td>0.003034</td>\n      <td>0.898808</td>\n      <td>0.384485</td>\n      <td>0.254607</td>\n      <td>0.329870</td>\n      <td>-0.166500</td>\n      <td>0.106437</td>\n      <td>0.057961</td>\n      <td>0.234076</td>\n      <td>-0.001656</td>\n    </tr>\n    <tr>\n      <th>2000-01-05</th>\n      <td>1.023830</td>\n      <td>0.831225</td>\n      <td>1.083355</td>\n      <td>-0.000625</td>\n      <td>-0.000621</td>\n      <td>0.006522</td>\n      <td>0.005936</td>\n      <td>0.003020</td>\n      <td>0.760250</td>\n      <td>0.469975</td>\n      <td>0.287690</td>\n      <td>0.335911</td>\n      <td>-0.041480</td>\n      <td>0.061364</td>\n      <td>-0.091600</td>\n      <td>-0.048785</td>\n      <td>-0.000625</td>\n    </tr>\n    <tr>\n      <th>2000-01-06</th>\n      <td>0.795298</td>\n      <td>0.738002</td>\n      <td>1.052704</td>\n      <td>-0.018349</td>\n      <td>-0.018519</td>\n      <td>0.004389</td>\n      <td>0.004765</td>\n      <td>0.002658</td>\n      <td>0.313247</td>\n      <td>0.473399</td>\n      <td>0.307057</td>\n      <td>0.333969</td>\n      <td>0.084399</td>\n      <td>-0.020840</td>\n      <td>-0.167687</td>\n      <td>0.016781</td>\n      <td>-0.018349</td>\n    </tr>\n    <tr>\n      <th>2000-01-07</th>\n      <td>0.743933</td>\n      <td>0.747537</td>\n      <td>1.049318</td>\n      <td>-0.003031</td>\n      <td>-0.003047</td>\n      <td>0.002021</td>\n      <td>0.003893</td>\n      <td>0.002574</td>\n      <td>0.252034</td>\n      <td>0.498786</td>\n      <td>0.314605</td>\n      <td>0.332667</td>\n      <td>-0.145277</td>\n      <td>-0.121995</td>\n      <td>-0.020924</td>\n      <td>0.058948</td>\n      <td>-0.003031</td>\n    </tr>\n    <tr>\n      <th>...</th>\n      <td>...</td>\n      <td>...</td>\n      <td>...</td>\n      <td>...</td>\n      <td>...</td>\n      <td>...</td>\n      <td>...</td>\n      <td>...</td>\n      <td>...</td>\n      <td>...</td>\n      <td>...</td>\n      <td>...</td>\n      <td>...</td>\n      <td>...</td>\n      <td>...</td>\n      <td>...</td>\n      <td>...</td>\n    </tr>\n    <tr>\n      <th>2021-02-23</th>\n      <td>1.225154</td>\n      <td>1.238262</td>\n      <td>1.471214</td>\n      <td>0.000167</td>\n      <td>0.000167</td>\n      <td>-0.000889</td>\n      <td>-0.000342</td>\n      <td>-0.001090</td>\n      <td>2.649200</td>\n      <td>1.447228</td>\n      <td>1.991273</td>\n      <td>2.336000</td>\n      <td>0.308996</td>\n      <td>-0.243938</td>\n      <td>-0.094251</td>\n      <td>-0.452310</td>\n      <td>0.000167</td>\n    </tr>\n    <tr>\n      <th>2021-02-24</th>\n      <td>1.361912</td>\n      <td>1.252530</td>\n      <td>1.120482</td>\n      <td>0.003574</td>\n      <td>0.003612</td>\n      <td>-0.001254</td>\n      <td>-0.000208</td>\n      <td>-0.000289</td>\n      <td>2.703189</td>\n      <td>1.855525</td>\n      <td>1.964926</td>\n      <td>2.303158</td>\n      <td>0.005430</td>\n      <td>0.119638</td>\n      <td>-0.236814</td>\n      <td>-0.027923</td>\n      <td>0.003574</td>\n    </tr>\n    <tr>\n      <th>2021-02-25</th>\n      <td>1.451676</td>\n      <td>1.299508</td>\n      <td>1.159543</td>\n      <td>-0.008334</td>\n      <td>-0.008196</td>\n      <td>-0.001283</td>\n      <td>-0.000587</td>\n      <td>-0.000302</td>\n      <td>1.356529</td>\n      <td>1.768606</td>\n      <td>1.920683</td>\n      <td>2.284094</td>\n      <td>-0.110348</td>\n      <td>-0.086563</td>\n      <td>-0.062112</td>\n      <td>0.183099</td>\n      <td>-0.008334</td>\n    </tr>\n    <tr>\n      <th>2021-02-26</th>\n      <td>1.437548</td>\n      <td>1.324815</td>\n      <td>1.161508</td>\n      <td>-0.002763</td>\n      <td>-0.002757</td>\n      <td>-0.001911</td>\n      <td>-0.000419</td>\n      <td>-0.000372</td>\n      <td>4.414030</td>\n      <td>1.942165</td>\n      <td>1.967836</td>\n      <td>2.247079</td>\n      <td>0.147805</td>\n      <td>-0.221466</td>\n      <td>-0.275143</td>\n      <td>0.175150</td>\n      <td>-0.002763</td>\n    </tr>\n    <tr>\n      <th>2021-03-01</th>\n      <td>1.491899</td>\n      <td>1.324373</td>\n      <td>1.184294</td>\n      <td>0.006167</td>\n      <td>0.006266</td>\n      <td>-0.001479</td>\n      <td>-0.000543</td>\n      <td>-0.000272</td>\n      <td>1.148620</td>\n      <td>1.877036</td>\n      <td>1.824553</td>\n      <td>2.232539</td>\n      <td>-0.099133</td>\n      <td>0.512093</td>\n      <td>-0.228449</td>\n      <td>-0.048321</td>\n      <td>0.006167</td>\n    </tr>\n  </tbody>\n</table>\n<p>5323 rows × 17 columns</p>\n</div>"
     },
     "execution_count": 3,
     "metadata": {},
     "output_type": "execute_result"
    }
   ],
   "source": [
    "pair = ('ADX', 'TY')\n",
    "df_A = pd.read_pickle(\"data/raw/\" + pair[0] + \".zip\")  # needs pickle5 compression (python 3.8)\n",
    "df_B = pd.read_pickle(\"data/raw/\" + pair[1] + \".zip\")  # needs pickle5 compression (python 3.8)\n",
    "\n",
    "pair_df = generate_pair_data(df_A, df_B, \"1999-01-01\", \"2021-03-01\")\n",
    "\n",
    "pair_df.loc[\"2000-01-01\":, :]"
   ]
  },
  {
   "cell_type": "code",
   "execution_count": 4,
   "outputs": [
    {
     "data": {
      "text/plain": "1550"
     },
     "execution_count": 4,
     "metadata": {},
     "output_type": "execute_result"
    }
   ],
   "source": [
    "model = ElasticNet()\n",
    "model.fit(np.array(pair_df.loc[\"2000-01-01\":\"2014-12-31\", :].drop(columns=\"Return Diff (t+1)\")),\n",
    "          np.array(pair_df.loc[\"2000-01-01\":\"2014-12-31\", \"Return Diff (t+1)\"]))\n",
    "pred_diff = model.predict(np.array(pair_df.loc[\"2015-01-01\":, :].drop(columns=\"Return Diff (t+1)\")))\n",
    "len(pred_diff)"
   ],
   "metadata": {
    "collapsed": false,
    "pycharm": {
     "name": "#%%\n"
    }
   }
  },
  {
   "cell_type": "code",
   "execution_count": 5,
   "outputs": [
    {
     "data": {
      "text/plain": "1550"
     },
     "execution_count": 5,
     "metadata": {},
     "output_type": "execute_result"
    }
   ],
   "source": [
    "len(np.array(pair_df.loc[\"2015-01-01\":, \"Return Diff (t+1)\"]))"
   ],
   "metadata": {
    "collapsed": false,
    "pycharm": {
     "name": "#%%\n"
    }
   }
  },
  {
   "cell_type": "code",
   "execution_count": 6,
   "outputs": [
    {
     "name": "stdout",
     "output_type": "stream",
     "text": [
      "0.006816927387703143\n",
      "3.948789574456831e-05\n",
      "-0.04171816924864856\n",
      "0.08396763204999211\n"
     ]
    },
    {
     "data": {
      "text/plain": "2.5710565029871527e-05"
     },
     "execution_count": 6,
     "metadata": {},
     "output_type": "execute_result"
    }
   ],
   "source": [
    "print(np.std(np.array(pair_df.loc[\"2000-01-01\":\"2014-12-31\", \"Return Diff (t+1)\"])))\n",
    "print(np.mean(np.array(pair_df.loc[\"2000-01-01\":\"2014-12-31\", \"Return Diff (t+1)\"])))\n",
    "print(np.min(np.array(pair_df.loc[\"2000-01-01\":\"2014-12-31\", \"Return Diff (t+1)\"])))\n",
    "print(np.max(np.array(pair_df.loc[\"2000-01-01\":\"2014-12-31\", \"Return Diff (t+1)\"])))\n",
    "mean_squared_error(np.array(pair_df.loc[\"2015-01-01\":, \"Return Diff (t+1)\"]), pred_diff)"
   ],
   "metadata": {
    "collapsed": false,
    "pycharm": {
     "name": "#%%\n"
    }
   }
  },
  {
   "cell_type": "code",
   "execution_count": 7,
   "outputs": [
    {
     "data": {
      "text/plain": "Simple Return    0.032908\nLog Return       0.051147\ndtype: float64"
     },
     "execution_count": 7,
     "metadata": {},
     "output_type": "execute_result"
    }
   ],
   "source": [
    "annualized_return(df_A.loc[:,[\"Simple Return\", \"Log Return\"]])"
   ],
   "metadata": {
    "collapsed": false,
    "pycharm": {
     "name": "#%%\n"
    }
   }
  },
  {
   "cell_type": "code",
   "execution_count": 8,
   "outputs": [
    {
     "data": {
      "text/plain": "array([0.99172931, 0.99277831, 1.00432389, 1.00674076, 1.00791104,\n       1.00920625, 1.01170531, 1.00923052, 1.01228828, 1.01298921,\n       1.01341368, 1.0146155 , 1.01862228, 1.01809335, 1.01724561,\n       1.01753237, 1.01851956, 1.02091567, 1.02009161, 1.01887973,\n       1.02210662, 1.02224956, 1.02846336, 1.03120447, 1.03448362,\n       1.03902695, 1.04072878, 1.04401982, 1.04217382, 1.0406446 ,\n       1.03790714, 1.03257674, 1.03519408, 1.02789047, 1.01955013,\n       1.01889829, 1.01837971, 1.0263424 , 1.02304301, 1.02286041,\n       1.03188977, 1.03134004, 1.0259098 , 1.01900912, 1.02110168,\n       1.01991892, 1.02012838, 1.01256984, 1.01321823, 1.01020126,\n       0.99605154, 0.99000317, 0.99644204, 0.99254304, 0.98793434,\n       0.98596007, 0.99045282, 0.99238864, 0.99185128, 0.98704943,\n       0.98536924, 0.98267561, 0.99124774, 0.99329436, 0.99479053,\n       0.99052255, 0.99378918, 0.99733117, 0.99736811, 0.99460588,\n       0.99851575, 0.99762597, 0.9938016 , 0.99142411, 0.99631352,\n       0.99643665, 1.00576879, 1.01262572, 1.01105258, 1.00631226,\n       1.00991149, 0.99728407, 0.99346037, 0.99540684, 0.99735155,\n       1.01068933, 1.00850157, 1.01098151, 1.00327282, 1.00726617,\n       1.00442426, 0.99914999, 1.00346505, 1.00183275, 0.99728627,\n       0.99168865, 0.99395627, 0.99579015, 0.99894058, 0.99833734])"
     },
     "execution_count": 8,
     "metadata": {},
     "output_type": "execute_result"
    }
   ],
   "source": [
    "from utils.models import GeometricBrownianMotion\n",
    "\n",
    "GeometricBrownianMotion(1, 0.03, 0.05).simulate()"
   ],
   "metadata": {
    "collapsed": false,
    "pycharm": {
     "name": "#%%\n"
    }
   }
  }
 ],
 "metadata": {
  "kernelspec": {
   "name": "pycharm-9d37a789",
   "language": "python",
   "display_name": "PyCharm (RNNforPairsTrading)"
  },
  "language_info": {
   "codemirror_mode": {
    "name": "ipython",
    "version": 3
   },
   "file_extension": ".py",
   "mimetype": "text/x-python",
   "name": "python",
   "nbconvert_exporter": "python",
   "pygments_lexer": "ipython3",
   "version": "3.8.5"
  }
 },
 "nbformat": 4,
 "nbformat_minor": 4
}