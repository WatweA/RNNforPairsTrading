{
 "cells": [
  {
   "cell_type": "code",
   "execution_count": 26,
   "metadata": {},
   "outputs": [],
   "source": [
    "import numpy as np\n",
    "import pandas as pd\n",
    "import json\n",
    "import pandas_market_calendars as mcal\n",
    "from sklearn.linear_model import ElasticNet\n",
    "from sklearn.metrics import mean_squared_error\n",
    "\n",
    "TRADING_DAYS = 252"
   ]
  },
  {
   "cell_type": "code",
   "execution_count": 8,
   "metadata": {},
   "outputs": [
    {
     "data": {
      "text/plain": "{('ADX', 'TY'): 0.853938041834032,\n ('ED', 'SO'): 0.7630684994843583,\n ('AEG', 'ING'): 0.7714520036919487,\n ('GOLD', 'NEM'): 0.8219942702537909,\n ('AVB', 'EQR'): 0.8793959812778221,\n ('AMAT', 'KLAC'): 0.8120695844768887,\n ('APA', 'DVN'): 0.7797792484401138,\n ('ARW', 'AVT'): 0.7573572791543869,\n ('CMA', 'TFC'): 0.8089975734507149,\n ('GFI', 'HMY'): 0.7721582544936532,\n ('BAC', 'WFC'): 0.8033690173669585,\n ('BBVA', 'SAN'): 0.8696850470469416,\n ('HIW', 'KRC'): 0.8127703586697915,\n ('BEN', 'TROW'): 0.7533682263460231,\n ('BK', 'NTRS'): 0.7853258900728711,\n ('HAL', 'SLB'): 0.7707796197283248,\n ('BMO', 'RY'): 0.8112242300303579,\n ('E', 'TOT'): 0.8145755214453303,\n ('BXP', 'VNO'): 0.8658210823728937,\n ('CCL', 'RCL'): 0.7796060510803956,\n ('CM', 'TD'): 0.7955914439701682,\n ('CVX', 'XOM'): 0.8257217118360992,\n ('CPT', 'UDR'): 0.8316230952071983,\n ('CSX', 'NSC'): 0.7742776958878398,\n ('CUZ', 'WRE'): 0.7571898754103825,\n ('DHI', 'LEN'): 0.8014581824672958,\n ('DRE', 'PLD'): 0.8245693410742715,\n ('ELS', 'MAA'): 0.765928437310408,\n ('FITB', 'RF'): 0.7801984040030708,\n ('FULT', 'VLY'): 0.7611300303286185,\n ('GAM', 'USA'): 0.7820430194637051,\n ('MRO', 'MUR'): 0.772800809844038,\n ('HP', 'PTEN'): 0.7833012162253351,\n ('HQH', 'HQL'): 0.8482150467490883,\n ('PEAK', 'WELL'): 0.7897036350226729,\n ('IAC', 'MTCH'): 0.9674580798451038,\n ('IFN', 'IIF'): 0.853350499511345,\n ('PNC', 'USB'): 0.7643275068331293,\n ('KBH', 'PHM'): 0.816217461554839,\n ('KIM', 'WRI'): 0.8623789688248248,\n ('LSI', 'PSA'): 0.7547238022637686,\n ('NNN', 'O'): 0.8132656500270542,\n ('RMT', 'RVT'): 0.786265392525183,\n ('FRT', 'REG'): 0.8491874510864948,\n ('TDS', 'USM'): 0.7688911242803368,\n ('ASA', 'AU'): 0.7503743210034047,\n ('COP', 'PEO'): 0.7727677866092473,\n ('HES', 'OXY'): 0.7534678208087207,\n ('MAC', 'SPG'): 0.7770364114261185}"
     },
     "execution_count": 8,
     "metadata": {},
     "output_type": "execute_result"
    }
   ],
   "source": [
    "pairs = {eval(k): v for k,v in dict(json.loads(open(\"data/info/pairs.json\", \"r\").read())).items()}\n",
    "pairs"
   ]
  },
  {
   "cell_type": "code",
   "execution_count": 9,
   "metadata": {},
   "outputs": [
    {
     "data": {
      "text/plain": "            Log Ret. A  Log Ret. B   1W Vol.   1M Vol.   3M Vol.   6M Vol.  \\\n2000-01-03   -0.003732   -0.022677  0.858397  0.773041  1.050669  0.972499   \n2000-01-04   -0.013170   -0.011535  1.088119  0.783751  1.074592  0.977204   \n2000-01-05   -0.007605   -0.006985  1.023830  0.831225  1.083355  0.980879   \n2000-01-06    0.000000    0.018519  0.795298  0.738002  1.052704  0.963774   \n2000-01-07    0.003810    0.006857  0.743933  0.747537  1.049318  0.961216   \n...                ...         ...       ...       ...       ...       ...   \n2021-02-23   -0.001123   -0.001290  1.225154  1.238262  1.471214  1.214455   \n2021-02-24    0.012284    0.008672  1.361912  1.252530  1.120482  1.219441   \n2021-02-25   -0.020747   -0.012551  1.451676  1.299508  1.159543  1.225429   \n2021-02-26   -0.003405   -0.000648  1.437548  1.324815  1.161508  1.223314   \n2021-03-01    0.019145    0.012879  1.491899  1.324373  1.184294  1.227077   \n\n             1Y Vol.   1W Ret.   1M Ret.   3M Ret.   6M Ret.   1Y Ret.  \\\n2000-01-03  1.144413  0.011071  0.006367  0.002754  0.001558  0.000829   \n2000-01-04  1.147183  0.008792  0.005883  0.003034  0.001529  0.000829   \n2000-01-05  1.144702  0.006522  0.005936  0.003020  0.001622  0.000804   \n2000-01-06  1.131265  0.004389  0.004765  0.002658  0.001457  0.000749   \n2000-01-07  1.129837  0.002021  0.003893  0.002574  0.001450  0.000711   \n...              ...       ...       ...       ...       ...       ...   \n2021-02-23  0.974814 -0.000889 -0.000342 -0.001090 -0.000594 -0.000112   \n2021-02-24  0.972466 -0.001254 -0.000208 -0.000289 -0.000528 -0.000057   \n2021-02-25  0.973629 -0.001283 -0.000587 -0.000302 -0.000608 -0.000090   \n2021-02-26  0.971099 -0.001911 -0.000419 -0.000372 -0.000684 -0.000076   \n2021-03-01  0.973338 -0.001479 -0.000543 -0.000272 -0.000687 -0.000079   \n\n            Return Diff  \n2000-01-03     0.019197  \n2000-01-04    -0.001656  \n2000-01-05    -0.000625  \n2000-01-06    -0.018349  \n2000-01-07    -0.003031  \n...                 ...  \n2021-02-23     0.000167  \n2021-02-24     0.003574  \n2021-02-25    -0.008334  \n2021-02-26    -0.002763  \n2021-03-01     0.006167  \n\n[5323 rows x 13 columns]",
      "text/html": "<div>\n<style scoped>\n    .dataframe tbody tr th:only-of-type {\n        vertical-align: middle;\n    }\n\n    .dataframe tbody tr th {\n        vertical-align: top;\n    }\n\n    .dataframe thead th {\n        text-align: right;\n    }\n</style>\n<table border=\"1\" class=\"dataframe\">\n  <thead>\n    <tr style=\"text-align: right;\">\n      <th></th>\n      <th>Log Ret. A</th>\n      <th>Log Ret. B</th>\n      <th>1W Vol.</th>\n      <th>1M Vol.</th>\n      <th>3M Vol.</th>\n      <th>6M Vol.</th>\n      <th>1Y Vol.</th>\n      <th>1W Ret.</th>\n      <th>1M Ret.</th>\n      <th>3M Ret.</th>\n      <th>6M Ret.</th>\n      <th>1Y Ret.</th>\n      <th>Return Diff</th>\n    </tr>\n  </thead>\n  <tbody>\n    <tr>\n      <th>2000-01-03</th>\n      <td>-0.003732</td>\n      <td>-0.022677</td>\n      <td>0.858397</td>\n      <td>0.773041</td>\n      <td>1.050669</td>\n      <td>0.972499</td>\n      <td>1.144413</td>\n      <td>0.011071</td>\n      <td>0.006367</td>\n      <td>0.002754</td>\n      <td>0.001558</td>\n      <td>0.000829</td>\n      <td>0.019197</td>\n    </tr>\n    <tr>\n      <th>2000-01-04</th>\n      <td>-0.013170</td>\n      <td>-0.011535</td>\n      <td>1.088119</td>\n      <td>0.783751</td>\n      <td>1.074592</td>\n      <td>0.977204</td>\n      <td>1.147183</td>\n      <td>0.008792</td>\n      <td>0.005883</td>\n      <td>0.003034</td>\n      <td>0.001529</td>\n      <td>0.000829</td>\n      <td>-0.001656</td>\n    </tr>\n    <tr>\n      <th>2000-01-05</th>\n      <td>-0.007605</td>\n      <td>-0.006985</td>\n      <td>1.023830</td>\n      <td>0.831225</td>\n      <td>1.083355</td>\n      <td>0.980879</td>\n      <td>1.144702</td>\n      <td>0.006522</td>\n      <td>0.005936</td>\n      <td>0.003020</td>\n      <td>0.001622</td>\n      <td>0.000804</td>\n      <td>-0.000625</td>\n    </tr>\n    <tr>\n      <th>2000-01-06</th>\n      <td>0.000000</td>\n      <td>0.018519</td>\n      <td>0.795298</td>\n      <td>0.738002</td>\n      <td>1.052704</td>\n      <td>0.963774</td>\n      <td>1.131265</td>\n      <td>0.004389</td>\n      <td>0.004765</td>\n      <td>0.002658</td>\n      <td>0.001457</td>\n      <td>0.000749</td>\n      <td>-0.018349</td>\n    </tr>\n    <tr>\n      <th>2000-01-07</th>\n      <td>0.003810</td>\n      <td>0.006857</td>\n      <td>0.743933</td>\n      <td>0.747537</td>\n      <td>1.049318</td>\n      <td>0.961216</td>\n      <td>1.129837</td>\n      <td>0.002021</td>\n      <td>0.003893</td>\n      <td>0.002574</td>\n      <td>0.001450</td>\n      <td>0.000711</td>\n      <td>-0.003031</td>\n    </tr>\n    <tr>\n      <th>...</th>\n      <td>...</td>\n      <td>...</td>\n      <td>...</td>\n      <td>...</td>\n      <td>...</td>\n      <td>...</td>\n      <td>...</td>\n      <td>...</td>\n      <td>...</td>\n      <td>...</td>\n      <td>...</td>\n      <td>...</td>\n      <td>...</td>\n    </tr>\n    <tr>\n      <th>2021-02-23</th>\n      <td>-0.001123</td>\n      <td>-0.001290</td>\n      <td>1.225154</td>\n      <td>1.238262</td>\n      <td>1.471214</td>\n      <td>1.214455</td>\n      <td>0.974814</td>\n      <td>-0.000889</td>\n      <td>-0.000342</td>\n      <td>-0.001090</td>\n      <td>-0.000594</td>\n      <td>-0.000112</td>\n      <td>0.000167</td>\n    </tr>\n    <tr>\n      <th>2021-02-24</th>\n      <td>0.012284</td>\n      <td>0.008672</td>\n      <td>1.361912</td>\n      <td>1.252530</td>\n      <td>1.120482</td>\n      <td>1.219441</td>\n      <td>0.972466</td>\n      <td>-0.001254</td>\n      <td>-0.000208</td>\n      <td>-0.000289</td>\n      <td>-0.000528</td>\n      <td>-0.000057</td>\n      <td>0.003574</td>\n    </tr>\n    <tr>\n      <th>2021-02-25</th>\n      <td>-0.020747</td>\n      <td>-0.012551</td>\n      <td>1.451676</td>\n      <td>1.299508</td>\n      <td>1.159543</td>\n      <td>1.225429</td>\n      <td>0.973629</td>\n      <td>-0.001283</td>\n      <td>-0.000587</td>\n      <td>-0.000302</td>\n      <td>-0.000608</td>\n      <td>-0.000090</td>\n      <td>-0.008334</td>\n    </tr>\n    <tr>\n      <th>2021-02-26</th>\n      <td>-0.003405</td>\n      <td>-0.000648</td>\n      <td>1.437548</td>\n      <td>1.324815</td>\n      <td>1.161508</td>\n      <td>1.223314</td>\n      <td>0.971099</td>\n      <td>-0.001911</td>\n      <td>-0.000419</td>\n      <td>-0.000372</td>\n      <td>-0.000684</td>\n      <td>-0.000076</td>\n      <td>-0.002763</td>\n    </tr>\n    <tr>\n      <th>2021-03-01</th>\n      <td>0.019145</td>\n      <td>0.012879</td>\n      <td>1.491899</td>\n      <td>1.324373</td>\n      <td>1.184294</td>\n      <td>1.227077</td>\n      <td>0.973338</td>\n      <td>-0.001479</td>\n      <td>-0.000543</td>\n      <td>-0.000272</td>\n      <td>-0.000687</td>\n      <td>-0.000079</td>\n      <td>0.006167</td>\n    </tr>\n  </tbody>\n</table>\n<p>5323 rows × 13 columns</p>\n</div>"
     },
     "execution_count": 9,
     "metadata": {},
     "output_type": "execute_result"
    }
   ],
   "source": [
    "pair = ('ADX', 'TY')\n",
    "# initialize dataframe with trading day indices\n",
    "dates = mcal.get_calendar('NYSE').schedule(start_date=\"1999-01-05\", end_date=\"2021-03-01\").index\n",
    "pair_df = pd.DataFrame(index=dates)  # trading dates\n",
    "\n",
    "df_A = pd.read_pickle(\"data/raw/\" + pair[0] + \".zip\")  # needs pickle5 compression (python 3.8)\n",
    "df_B = pd.read_pickle(\"data/raw/\" + pair[1] + \".zip\")  # needs pickle5 compression (python 3.8)\n",
    "\n",
    "# add the return columns\n",
    "pair_df[\"Log Ret. A\"] = df_A[\"Log Return\"]\n",
    "pair_df[\"Log Ret. B\"] = df_B[\"Log Return\"]\n",
    "\n",
    "# establish the rolling windows for both tickers in the pair\n",
    "rolling_1w_A = df_A[\"Log Return\"].rolling(10)\n",
    "rolling_1m_A = df_A[\"Log Return\"].rolling(21)\n",
    "rolling_3m_A = df_A[\"Log Return\"].rolling(63)\n",
    "rolling_6m_A = df_A[\"Log Return\"].rolling(126)\n",
    "rolling_1y_A = df_A[\"Log Return\"].rolling(252)\n",
    "rolling_1w_B = df_B[\"Log Return\"].rolling(10)\n",
    "rolling_1m_B = df_B[\"Log Return\"].rolling(21)\n",
    "rolling_3m_B = df_B[\"Log Return\"].rolling(63)\n",
    "rolling_6m_B = df_B[\"Log Return\"].rolling(126)\n",
    "rolling_1y_B = df_B[\"Log Return\"].rolling(252)\n",
    "\n",
    "# add the rolling volatility ratios \n",
    "pair_df[\"1W Vol.\"] = rolling_1w_A.std(ddof=0) / rolling_1w_B.std(ddof=0)\n",
    "pair_df[\"1M Vol.\"] = rolling_1m_A.std(ddof=0) / rolling_1m_B.std(ddof=0)\n",
    "pair_df[\"3M Vol.\"] = rolling_3m_A.std(ddof=0) / rolling_3m_B.std(ddof=0)\n",
    "pair_df[\"6M Vol.\"] = rolling_6m_A.std(ddof=0) / rolling_6m_B.std(ddof=0)\n",
    "pair_df[\"1Y Vol.\"] = rolling_1y_A.std(ddof=0) / rolling_1y_B.std(ddof=0)\n",
    "\n",
    "# add the rolling mean return differences\n",
    "pair_df[\"1W Ret.\"] = rolling_1w_A.mean() - rolling_1w_B.mean()\n",
    "pair_df[\"1M Ret.\"] = rolling_1m_A.mean() - rolling_1m_B.mean()\n",
    "pair_df[\"3M Ret.\"] = rolling_3m_A.mean() - rolling_3m_B.mean()\n",
    "pair_df[\"6M Ret.\"] = rolling_6m_A.mean() - rolling_6m_B.mean()\n",
    "pair_df[\"1Y Ret.\"] = rolling_1y_A.mean() - rolling_1y_B.mean()\n",
    "\n",
    "pair_df.fillna(0, inplace=True)\n",
    "\n",
    "# this is the target column: when diff > 1, return is greater for pair[0], else return is greater for pair[1]\n",
    "pair_df[\"Return Diff\"] = df_A[\"Simple Return\"] - df_B[\"Simple Return\"]\n",
    "pair_df[\"Return Diff\"].shift(-1)  # shift so the return ratio at day t+1 moves to day t\n",
    "\n",
    "pair_df.loc[\"2000-01-01\":, :]"
   ]
  },
  {
   "cell_type": "code",
   "execution_count": 22,
   "outputs": [
    {
     "data": {
      "text/plain": "1550"
     },
     "execution_count": 22,
     "metadata": {},
     "output_type": "execute_result"
    }
   ],
   "source": [
    "model = ElasticNet()\n",
    "model.fit(np.array(pair_df.loc[\"2000-01-01\":\"2014-12-31\", :].drop(columns=\"Return Diff\")),\n",
    "          np.array(pair_df.loc[\"2000-01-01\":\"2014-12-31\", \"Return Diff\"]))\n",
    "pred_diff = model.predict(np.array(pair_df.loc[\"2015-01-01\":, :].drop(columns=\"Return Diff\")))\n",
    "len(pred_diff)"
   ],
   "metadata": {
    "collapsed": false,
    "pycharm": {
     "name": "#%%\n"
    }
   }
  },
  {
   "cell_type": "code",
   "execution_count": 23,
   "outputs": [
    {
     "data": {
      "text/plain": "1550"
     },
     "execution_count": 23,
     "metadata": {},
     "output_type": "execute_result"
    }
   ],
   "source": [
    "len(np.array(pair_df.loc[\"2015-01-01\":, \"Return Diff\"]))"
   ],
   "metadata": {
    "collapsed": false,
    "pycharm": {
     "name": "#%%\n"
    }
   }
  },
  {
   "cell_type": "code",
   "execution_count": 28,
   "outputs": [
    {
     "name": "stdout",
     "output_type": "stream",
     "text": [
      "0.005070142703819581\n"
     ]
    },
    {
     "data": {
      "text/plain": "2.5710565029871527e-05"
     },
     "execution_count": 28,
     "metadata": {},
     "output_type": "execute_result"
    }
   ],
   "source": [
    "print(np.std(np.array(pair_df.loc[\"2015-01-01\":, \"Return Diff\"])))\n",
    "mean_squared_error(np.array(pair_df.loc[\"2015-01-01\":, \"Return Diff\"]), pred_diff)\n"
   ],
   "metadata": {
    "collapsed": false,
    "pycharm": {
     "name": "#%%\n"
    }
   }
  }
 ],
 "metadata": {
  "kernelspec": {
   "name": "pycharm-9d37a789",
   "language": "python",
   "display_name": "PyCharm (RNNforPairsTrading)"
  },
  "language_info": {
   "codemirror_mode": {
    "name": "ipython",
    "version": 3
   },
   "file_extension": ".py",
   "mimetype": "text/x-python",
   "name": "python",
   "nbconvert_exporter": "python",
   "pygments_lexer": "ipython3",
   "version": "3.8.5"
  }
 },
 "nbformat": 4,
 "nbformat_minor": 4
}