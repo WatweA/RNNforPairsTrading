{
 "cells": [
  {
   "cell_type": "code",
   "execution_count": 1,
   "metadata": {},
   "outputs": [
    {
     "name": "stdout",
     "output_type": "stream",
     "text": [
      "saved data/processed/ADX-TY.zip\n",
      "saved data/processed/ED-SO.zip\n",
      "saved data/processed/AEG-ING.zip\n",
      "saved data/processed/GOLD-NEM.zip\n",
      "saved data/processed/AVB-EQR.zip\n",
      "saved data/processed/AMAT-KLAC.zip\n",
      "saved data/processed/APA-DVN.zip\n",
      "saved data/processed/ARW-AVT.zip\n",
      "saved data/processed/CMA-TFC.zip\n",
      "saved data/processed/GFI-HMY.zip\n",
      "saved data/processed/BAC-WFC.zip\n",
      "saved data/processed/BBVA-SAN.zip\n",
      "saved data/processed/HIW-KRC.zip\n",
      "saved data/processed/BEN-TROW.zip\n",
      "saved data/processed/BK-NTRS.zip\n",
      "saved data/processed/HAL-SLB.zip\n",
      "saved data/processed/BMO-RY.zip\n",
      "saved data/processed/E-TOT.zip\n",
      "saved data/processed/BXP-VNO.zip\n",
      "saved data/processed/CCL-RCL.zip\n",
      "saved data/processed/CM-TD.zip\n",
      "saved data/processed/CVX-XOM.zip\n",
      "saved data/processed/CPT-UDR.zip\n",
      "saved data/processed/CSX-NSC.zip\n",
      "saved data/processed/CUZ-WRE.zip\n",
      "saved data/processed/DHI-LEN.zip\n",
      "saved data/processed/DRE-PLD.zip\n",
      "saved data/processed/ELS-MAA.zip\n",
      "saved data/processed/FITB-RF.zip\n",
      "saved data/processed/FULT-VLY.zip\n",
      "saved data/processed/GAM-USA.zip\n",
      "saved data/processed/MRO-MUR.zip\n",
      "saved data/processed/HP-PTEN.zip\n",
      "saved data/processed/HQH-HQL.zip\n",
      "saved data/processed/PEAK-WELL.zip\n",
      "saved data/processed/IAC-MTCH.zip\n",
      "saved data/processed/IFN-IIF.zip\n",
      "saved data/processed/PNC-USB.zip\n",
      "saved data/processed/KBH-PHM.zip\n",
      "saved data/processed/KIM-WRI.zip\n",
      "saved data/processed/LSI-PSA.zip\n",
      "saved data/processed/NNN-O.zip\n",
      "saved data/processed/RMT-RVT.zip\n",
      "saved data/processed/FRT-REG.zip\n",
      "saved data/processed/TDS-USM.zip\n",
      "saved data/processed/ASA-AU.zip\n",
      "saved data/processed/COP-PEO.zip\n",
      "saved data/processed/HES-OXY.zip\n",
      "saved data/processed/MAC-SPG.zip\n"
     ]
    }
   ],
   "source": [
    "import pandas as pd\n",
    "import json\n",
    "from utils.preprocessing import generate_pair_data\n",
    "\n",
    "pairs = {eval(k): v for k,v in dict(json.loads(open(\"data/info/pairs.json\", \"r\").read())).items()}\n",
    "\n",
    "for pair in pairs.keys():\n",
    "    df_A = pd.read_pickle(\"data/raw/\" + pair[0] + \".zip\")  # needs pickle5 compression (python 3.8)\n",
    "    df_B = pd.read_pickle(\"data/raw/\" + pair[1] + \".zip\")  # needs pickle5 compression (python 3.8)\n",
    "    pair_df = generate_pair_data(df_A, df_B, \"1999-01-01\", \"2021-03-01\")\n",
    "    pair_df.to_pickle(f\"data/processed/{pair[0].upper()}-{pair[1].upper()}.zip\")\n",
    "    print(f\"saved data/processed/{pair[0].upper()}-{pair[1].upper()}.zip\")"
   ]
  },
  {
   "cell_type": "code",
   "execution_count": null,
   "metadata": {},
   "outputs": [],
   "source": []
  },
  {
   "cell_type": "markdown",
   "metadata": {},
   "source": [
    "### TODO: FIX BELOW"
   ]
  },
  {
   "cell_type": "code",
   "execution_count": null,
   "metadata": {
    "pycharm": {
     "name": "#%%\n"
    }
   },
   "outputs": [],
   "source": [
    "model = ElasticNet()\n",
    "model.fit(np.array(pair_df.loc[\"2000-01-01\":\"2014-12-31\", :].drop(columns=\"Return Diff (t+1)\")),\n",
    "          np.array(pair_df.loc[\"2000-01-01\":\"2014-12-31\", \"Return Diff (t+1)\"]))\n",
    "pred_diff = model.predict(np.array(pair_df.loc[\"2015-01-01\":, :].drop(columns=\"Return Diff (t+1)\")))\n",
    "len(pred_diff)"
   ]
  },
  {
   "cell_type": "code",
   "execution_count": null,
   "metadata": {
    "pycharm": {
     "name": "#%%\n"
    }
   },
   "outputs": [],
   "source": [
    "len(np.array(pair_df.loc[\"2015-01-01\":, \"Return Diff (t+1)\"]))"
   ]
  },
  {
   "cell_type": "code",
   "execution_count": null,
   "metadata": {
    "pycharm": {
     "name": "#%%\n"
    }
   },
   "outputs": [],
   "source": [
    "print(np.std(np.array(pair_df.loc[\"2000-01-01\":\"2014-12-31\", \"Return Diff (t+1)\"])))\n",
    "print(np.mean(np.array(pair_df.loc[\"2000-01-01\":\"2014-12-31\", \"Return Diff (t+1)\"])))\n",
    "print(np.min(np.array(pair_df.loc[\"2000-01-01\":\"2014-12-31\", \"Return Diff (t+1)\"])))\n",
    "print(np.max(np.array(pair_df.loc[\"2000-01-01\":\"2014-12-31\", \"Return Diff (t+1)\"])))\n",
    "mean_squared_error(np.array(pair_df.loc[\"2015-01-01\":, \"Return Diff (t+1)\"]), pred_diff)"
   ]
  },
  {
   "cell_type": "code",
   "execution_count": null,
   "metadata": {
    "pycharm": {
     "name": "#%%\n"
    }
   },
   "outputs": [],
   "source": [
    "annualized_return(df_A.loc[:,[\"Simple Return\", \"Log Return\"]])"
   ]
  },
  {
   "cell_type": "code",
   "execution_count": null,
   "metadata": {
    "pycharm": {
     "name": "#%%\n"
    }
   },
   "outputs": [],
   "source": [
    "from utils.models import GeometricBrownianMotion\n",
    "\n",
    "GeometricBrownianMotion(1, 0.03, 0.05).simulate()"
   ]
  }
 ],
 "metadata": {
  "kernelspec": {
   "display_name": "PyCharm (RNNforPairsTrading)",
   "language": "python",
   "name": "pycharm-9d37a789"
  },
  "language_info": {
   "codemirror_mode": {
    "name": "ipython",
    "version": 3
   },
   "file_extension": ".py",
   "mimetype": "text/x-python",
   "name": "python",
   "nbconvert_exporter": "python",
   "pygments_lexer": "ipython3",
   "version": "3.8.8"
  }
 },
 "nbformat": 4,
 "nbformat_minor": 4
}
