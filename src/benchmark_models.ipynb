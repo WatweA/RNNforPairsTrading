{
 "cells": [
  {
   "cell_type": "code",
   "execution_count": 1,
   "metadata": {},
   "outputs": [],
   "source": [
    "import pandas as pd\n",
    "import json\n",
    "\n",
    "pairs = {eval(k): v for k,v in dict(json.loads(open(\"data/info/pairs.json\", \"r\").read())).items()}\n",
    "\n",
    "pair = ('ADX', 'TY')\n",
    "df_A = pd.read_pickle(\"data/raw/\" + pair[0] + \".zip\")  # needs pickle5 compression (python 3.8)\n",
    "df_B = pd.read_pickle(\"data/raw/\" + pair[1] + \".zip\")  # needs pickle5 compression (python 3.8)\n",
    "\n",
    "pair_df = generate_pair_data(df_A, df_B, \"1999-01-01\", \"2021-03-01\")\n",
    "\n",
    "pair_df.loc[\"2000-01-01\":, :]\n",
    "\n",
    "for pair in pairs.keys():\n",
    "    df_A = pd.read_pickle(\"data/raw/\" + pair[0] + \".zip\")  # needs pickle5 compression (python 3.8)\n",
    "    df_B = pd.read_pickle(\"data/raw/\" + pair[1] + \".zip\")  # needs pickle5 compression (python 3.8)\n",
    "    pair_df = generate_pair_data(df_A, df_B, \"1999-01-01\", \"2021-03-01\")\n",
    "    pair_df.to_pickle(f\"data/processed/{pair[0].upper()}-{pair[1].upper()}.zip\")\n",
    "    print(f\"saved data/processed/{pair[0].upper()}-{pair[1].upper()}.zip\")"
   ]
  },
  {
   "cell_type": "code",
   "execution_count": 2,
   "metadata": {},
   "outputs": [
    {
     "data": {
      "text/plain": [
       "{('ADX', 'TY'): 0.853938041834032,\n",
       " ('ED', 'SO'): 0.7630684994843583,\n",
       " ('AEG', 'ING'): 0.7714520036919487,\n",
       " ('GOLD', 'NEM'): 0.8219942702537909,\n",
       " ('AVB', 'EQR'): 0.8793959812778221,\n",
       " ('AMAT', 'KLAC'): 0.8120695844768887,\n",
       " ('APA', 'DVN'): 0.7797792484401138,\n",
       " ('ARW', 'AVT'): 0.7573572791543869,\n",
       " ('CMA', 'TFC'): 0.8089975734507149,\n",
       " ('GFI', 'HMY'): 0.7721582544936532,\n",
       " ('BAC', 'WFC'): 0.8033690173669585,\n",
       " ('BBVA', 'SAN'): 0.8696850470469416,\n",
       " ('HIW', 'KRC'): 0.8127703586697915,\n",
       " ('BEN', 'TROW'): 0.7533682263460231,\n",
       " ('BK', 'NTRS'): 0.7853258900728711,\n",
       " ('HAL', 'SLB'): 0.7707796197283248,\n",
       " ('BMO', 'RY'): 0.8112242300303579,\n",
       " ('E', 'TOT'): 0.8145755214453303,\n",
       " ('BXP', 'VNO'): 0.8658210823728937,\n",
       " ('CCL', 'RCL'): 0.7796060510803956,\n",
       " ('CM', 'TD'): 0.7955914439701682,\n",
       " ('CVX', 'XOM'): 0.8257217118360992,\n",
       " ('CPT', 'UDR'): 0.8316230952071983,\n",
       " ('CSX', 'NSC'): 0.7742776958878398,\n",
       " ('CUZ', 'WRE'): 0.7571898754103825,\n",
       " ('DHI', 'LEN'): 0.8014581824672958,\n",
       " ('DRE', 'PLD'): 0.8245693410742715,\n",
       " ('ELS', 'MAA'): 0.765928437310408,\n",
       " ('FITB', 'RF'): 0.7801984040030708,\n",
       " ('FULT', 'VLY'): 0.7611300303286185,\n",
       " ('GAM', 'USA'): 0.7820430194637051,\n",
       " ('MRO', 'MUR'): 0.772800809844038,\n",
       " ('HP', 'PTEN'): 0.7833012162253351,\n",
       " ('HQH', 'HQL'): 0.8482150467490883,\n",
       " ('PEAK', 'WELL'): 0.7897036350226729,\n",
       " ('IAC', 'MTCH'): 0.9674580798451038,\n",
       " ('IFN', 'IIF'): 0.853350499511345,\n",
       " ('PNC', 'USB'): 0.7643275068331293,\n",
       " ('KBH', 'PHM'): 0.816217461554839,\n",
       " ('KIM', 'WRI'): 0.8623789688248248,\n",
       " ('LSI', 'PSA'): 0.7547238022637686,\n",
       " ('NNN', 'O'): 0.8132656500270542,\n",
       " ('RMT', 'RVT'): 0.786265392525183,\n",
       " ('FRT', 'REG'): 0.8491874510864948,\n",
       " ('TDS', 'USM'): 0.7688911242803368,\n",
       " ('ASA', 'AU'): 0.7503743210034047,\n",
       " ('COP', 'PEO'): 0.7727677866092473,\n",
       " ('HES', 'OXY'): 0.7534678208087207,\n",
       " ('MAC', 'SPG'): 0.7770364114261185}"
      ]
     },
     "execution_count": 2,
     "metadata": {},
     "output_type": "execute_result"
    }
   ],
   "source": []
  },
  {
   "cell_type": "code",
   "execution_count": 26,
   "metadata": {},
   "outputs": [
    {
     "name": "stdout",
     "output_type": "stream",
     "text": [
      "saved ('ADX', 'TY') data to data/processed/ADX-TY.zip\n",
      "saved ('ED', 'SO') data to data/processed/ED-SO.zip\n",
      "saved ('AEG', 'ING') data to data/processed/AEG-ING.zip\n",
      "saved ('GOLD', 'NEM') data to data/processed/GOLD-NEM.zip\n",
      "saved ('AVB', 'EQR') data to data/processed/AVB-EQR.zip\n",
      "saved ('AMAT', 'KLAC') data to data/processed/AMAT-KLAC.zip\n",
      "saved ('APA', 'DVN') data to data/processed/APA-DVN.zip\n",
      "saved ('ARW', 'AVT') data to data/processed/ARW-AVT.zip\n",
      "saved ('CMA', 'TFC') data to data/processed/CMA-TFC.zip\n",
      "saved ('GFI', 'HMY') data to data/processed/GFI-HMY.zip\n",
      "saved ('BAC', 'WFC') data to data/processed/BAC-WFC.zip\n",
      "saved ('BBVA', 'SAN') data to data/processed/BBVA-SAN.zip\n",
      "saved ('HIW', 'KRC') data to data/processed/HIW-KRC.zip\n",
      "saved ('BEN', 'TROW') data to data/processed/BEN-TROW.zip\n",
      "saved ('BK', 'NTRS') data to data/processed/BK-NTRS.zip\n",
      "saved ('HAL', 'SLB') data to data/processed/HAL-SLB.zip\n",
      "saved ('BMO', 'RY') data to data/processed/BMO-RY.zip\n",
      "saved ('E', 'TOT') data to data/processed/E-TOT.zip\n",
      "saved ('BXP', 'VNO') data to data/processed/BXP-VNO.zip\n",
      "saved ('CCL', 'RCL') data to data/processed/CCL-RCL.zip\n",
      "saved ('CM', 'TD') data to data/processed/CM-TD.zip\n",
      "saved ('CVX', 'XOM') data to data/processed/CVX-XOM.zip\n",
      "saved ('CPT', 'UDR') data to data/processed/CPT-UDR.zip\n",
      "saved ('CSX', 'NSC') data to data/processed/CSX-NSC.zip\n",
      "saved ('CUZ', 'WRE') data to data/processed/CUZ-WRE.zip\n",
      "saved ('DHI', 'LEN') data to data/processed/DHI-LEN.zip\n",
      "saved ('DRE', 'PLD') data to data/processed/DRE-PLD.zip\n",
      "saved ('ELS', 'MAA') data to data/processed/ELS-MAA.zip\n",
      "saved ('FITB', 'RF') data to data/processed/FITB-RF.zip\n",
      "saved ('FULT', 'VLY') data to data/processed/FULT-VLY.zip\n",
      "saved ('GAM', 'USA') data to data/processed/GAM-USA.zip\n",
      "saved ('MRO', 'MUR') data to data/processed/MRO-MUR.zip\n",
      "saved ('HP', 'PTEN') data to data/processed/HP-PTEN.zip\n",
      "saved ('HQH', 'HQL') data to data/processed/HQH-HQL.zip\n",
      "saved ('PEAK', 'WELL') data to data/processed/PEAK-WELL.zip\n",
      "saved ('IAC', 'MTCH') data to data/processed/IAC-MTCH.zip\n",
      "saved ('IFN', 'IIF') data to data/processed/IFN-IIF.zip\n",
      "saved ('PNC', 'USB') data to data/processed/PNC-USB.zip\n",
      "saved ('KBH', 'PHM') data to data/processed/KBH-PHM.zip\n",
      "saved ('KIM', 'WRI') data to data/processed/KIM-WRI.zip\n",
      "saved ('LSI', 'PSA') data to data/processed/LSI-PSA.zip\n",
      "saved ('NNN', 'O') data to data/processed/NNN-O.zip\n",
      "saved ('RMT', 'RVT') data to data/processed/RMT-RVT.zip\n",
      "saved ('FRT', 'REG') data to data/processed/FRT-REG.zip\n",
      "saved ('TDS', 'USM') data to data/processed/TDS-USM.zip\n",
      "saved ('ASA', 'AU') data to data/processed/ASA-AU.zip\n",
      "saved ('COP', 'PEO') data to data/processed/COP-PEO.zip\n",
      "saved ('HES', 'OXY') data to data/processed/HES-OXY.zip\n",
      "saved ('MAC', 'SPG') data to data/processed/MAC-SPG.zip\n"
     ]
    }
   ],
   "source": []
  },
  {
   "cell_type": "code",
   "execution_count": null,
   "metadata": {
    "pycharm": {
     "name": "#%%\n"
    }
   },
   "outputs": [],
   "source": [
    "model = ElasticNet()\n",
    "model.fit(np.array(pair_df.loc[\"2000-01-01\":\"2014-12-31\", :].drop(columns=\"Return Diff (t+1)\")),\n",
    "          np.array(pair_df.loc[\"2000-01-01\":\"2014-12-31\", \"Return Diff (t+1)\"]))\n",
    "pred_diff = model.predict(np.array(pair_df.loc[\"2015-01-01\":, :].drop(columns=\"Return Diff (t+1)\")))\n",
    "len(pred_diff)"
   ]
  },
  {
   "cell_type": "code",
   "execution_count": null,
   "metadata": {
    "pycharm": {
     "name": "#%%\n"
    }
   },
   "outputs": [],
   "source": [
    "len(np.array(pair_df.loc[\"2015-01-01\":, \"Return Diff (t+1)\"]))"
   ]
  },
  {
   "cell_type": "code",
   "execution_count": null,
   "metadata": {
    "pycharm": {
     "name": "#%%\n"
    }
   },
   "outputs": [],
   "source": [
    "print(np.std(np.array(pair_df.loc[\"2000-01-01\":\"2014-12-31\", \"Return Diff (t+1)\"])))\n",
    "print(np.mean(np.array(pair_df.loc[\"2000-01-01\":\"2014-12-31\", \"Return Diff (t+1)\"])))\n",
    "print(np.min(np.array(pair_df.loc[\"2000-01-01\":\"2014-12-31\", \"Return Diff (t+1)\"])))\n",
    "print(np.max(np.array(pair_df.loc[\"2000-01-01\":\"2014-12-31\", \"Return Diff (t+1)\"])))\n",
    "mean_squared_error(np.array(pair_df.loc[\"2015-01-01\":, \"Return Diff (t+1)\"]), pred_diff)"
   ]
  },
  {
   "cell_type": "code",
   "execution_count": null,
   "metadata": {
    "pycharm": {
     "name": "#%%\n"
    }
   },
   "outputs": [],
   "source": [
    "annualized_return(df_A.loc[:,[\"Simple Return\", \"Log Return\"]])"
   ]
  },
  {
   "cell_type": "code",
   "execution_count": null,
   "metadata": {
    "pycharm": {
     "name": "#%%\n"
    }
   },
   "outputs": [],
   "source": [
    "from utils.models import GeometricBrownianMotion\n",
    "\n",
    "GeometricBrownianMotion(1, 0.03, 0.05).simulate()"
   ]
  }
 ],
 "metadata": {
  "kernelspec": {
   "display_name": "PyCharm (RNNforPairsTrading)",
   "language": "python",
   "name": "pycharm-9d37a789"
  },
  "language_info": {
   "codemirror_mode": {
    "name": "ipython",
    "version": 3
   },
   "file_extension": ".py",
   "mimetype": "text/x-python",
   "name": "python",
   "nbconvert_exporter": "python",
   "pygments_lexer": "ipython3",
   "version": "3.8.8"
  }
 },
 "nbformat": 4,
 "nbformat_minor": 4
}
